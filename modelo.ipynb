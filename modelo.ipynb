{
 "cells": [
  {
   "cell_type": "code",
   "execution_count": 8,
   "metadata": {},
   "outputs": [],
   "source": [
    "import os\n",
    "from datasets import load_dataset"
   ]
  },
  {
   "cell_type": "code",
   "execution_count": 9,
   "metadata": {},
   "outputs": [],
   "source": [
    "def coco_to_yolo(x, y, w, h, width, heigth):\n",
    "    return [((2 * x + w) / (2 * width)), ((2 * y + h) / (2 * heigth)), w / width, h / heigth]"
   ]
  },
  {
   "cell_type": "code",
   "execution_count": 4,
   "metadata": {},
   "outputs": [],
   "source": [
    "def preprocessing(partition: str, data :any):\n",
    "    os.makedirs(f\"datasets/images/{partition}\", exist_ok=True)\n",
    "    os.makedirs(f\"datasets/labels/{partition}\", exist_ok=True)\n",
    "\n",
    "    # data[\"train\"][0] \n",
    "    for i, sample in enumerate(data[partition]):\n",
    "        image = sample['image']\n",
    "        label = sample[\"objects\"]['category']\n",
    "        bboxes = sample[\"objects\"]['bbox']\n",
    "        width = sample['width']\n",
    "        height = sample['height']\n",
    "\n",
    "        # processing bboxes\n",
    "        items = []\n",
    "        for label, bbox in zip(label, bboxes):\n",
    "            xc, yc, w, h = coco_to_yolo(bbox[0], bbox[1], bbox[2], bbox[1], width, height)\n",
    "            items.append(f\"{label} {xc} {yc} {w} {h}\")\n",
    "        \n",
    "        with open(f\"datasets/labels/{partition}/{i}.txt\", \"w\") as f:\n",
    "            for item in items:\n",
    "                f.write(f\"{item}\\n\")\n",
    "\n",
    "        image.save(f\"datasets/images/{partition}/{i}.jpg\")"
   ]
  },
  {
   "cell_type": "code",
   "execution_count": null,
   "metadata": {},
   "outputs": [],
   "source": []
  },
  {
   "cell_type": "code",
   "execution_count": 7,
   "metadata": {},
   "outputs": [
    {
     "name": "stdout",
     "output_type": "stream",
     "text": [
      "loading Roboflow workspace...\n",
      "loading Roboflow project...\n",
      "[WARNING] we noticed you are downloading a `yolov8` datasets but you don't have `ultralytics` installed. Roboflow `.deploy` supports only models trained with `ultralytics==8.0.196`, to intall it `pip install ultralytics==8.0.196`.\n"
     ]
    },
    {
     "name": "stderr",
     "output_type": "stream",
     "text": [
      "Downloading Dataset Version Zip in GARBAGE-CLASSIFICATION-3-2 to yolov8:: 100%|██████████| 206285/206285 [00:09<00:00, 21393.15it/s]"
     ]
    },
    {
     "name": "stdout",
     "output_type": "stream",
     "text": [
      "\n"
     ]
    },
    {
     "name": "stderr",
     "output_type": "stream",
     "text": [
      "\n",
      "Extracting Dataset Version Zip to GARBAGE-CLASSIFICATION-3-2 in yolov8:: 100%|██████████| 20940/20940 [01:15<00:00, 277.46it/s]\n"
     ]
    }
   ],
   "source": [
    "from roboflow import Roboflow\n",
    "rf = Roboflow(api_key=\"EvbgCXrdqvuW3r4D9tkJ\")\n",
    "project = rf.workspace(\"material-identification\").project(\"garbage-classification-3\")\n",
    "dataset = project.version(2).download(\"yolov8\")\n"
   ]
  },
  {
   "cell_type": "code",
   "execution_count": 1,
   "metadata": {},
   "outputs": [
    {
     "ename": "NameError",
     "evalue": "name 'preprocessing' is not defined",
     "output_type": "error",
     "traceback": [
      "\u001b[1;31m---------------------------------------------------------------------------\u001b[0m",
      "\u001b[1;31mNameError\u001b[0m                                 Traceback (most recent call last)",
      "\u001b[1;32mc:\\Users\\juan1\\OneDrive\\Desktop\\reciclaje-final\\modelo.ipynb Cell 6\u001b[0m line \u001b[0;36m4\n\u001b[0;32m      <a href='vscode-notebook-cell:/c%3A/Users/juan1/OneDrive/Desktop/reciclaje-final/modelo.ipynb#W5sZmlsZQ%3D%3D?line=0'>1</a>\u001b[0m \u001b[39mif\u001b[39;00m (\u001b[39m__name__\u001b[39m \u001b[39m==\u001b[39m \u001b[39m\"\u001b[39m\u001b[39m__main__\u001b[39m\u001b[39m\"\u001b[39m):\n\u001b[0;32m      <a href='vscode-notebook-cell:/c%3A/Users/juan1/OneDrive/Desktop/reciclaje-final/modelo.ipynb#W5sZmlsZQ%3D%3D?line=1'>2</a>\u001b[0m     \u001b[39m# data = load_dataset(\"https://universe.roboflow.com/ds/OpmEyv9HEN?key=aT00D1ddg4\", \"full\")\u001b[39;00m\n\u001b[1;32m----> <a href='vscode-notebook-cell:/c%3A/Users/juan1/OneDrive/Desktop/reciclaje-final/modelo.ipynb#W5sZmlsZQ%3D%3D?line=3'>4</a>\u001b[0m     preprocessing(\u001b[39m\"\u001b[39m\u001b[39mtrain\u001b[39m\u001b[39m\"\u001b[39m, dataset)\n\u001b[0;32m      <a href='vscode-notebook-cell:/c%3A/Users/juan1/OneDrive/Desktop/reciclaje-final/modelo.ipynb#W5sZmlsZQ%3D%3D?line=4'>5</a>\u001b[0m     preprocessing(\u001b[39m\"\u001b[39m\u001b[39mtest\u001b[39m\u001b[39m\"\u001b[39m, dataset)\n\u001b[0;32m      <a href='vscode-notebook-cell:/c%3A/Users/juan1/OneDrive/Desktop/reciclaje-final/modelo.ipynb#W5sZmlsZQ%3D%3D?line=5'>6</a>\u001b[0m     preprocessing(\u001b[39m\"\u001b[39m\u001b[39mvalidation\u001b[39m\u001b[39m\"\u001b[39m, dataset)\n",
      "\u001b[1;31mNameError\u001b[0m: name 'preprocessing' is not defined"
     ]
    }
   ],
   "source": [
    "if (__name__ == \"__main__\"):\n",
    "    # data = load_dataset(\"https://universe.roboflow.com/ds/OpmEyv9HEN?key=aT00D1ddg4\", \"full\")\n",
    "\n",
    "    preprocessing(\"train\", dataset)\n",
    "    preprocessing(\"test\", dataset)\n",
    "    preprocessing(\"validation\", dataset)"
   ]
  }
 ],
 "metadata": {
  "kernelspec": {
   "display_name": "Python 3",
   "language": "python",
   "name": "python3"
  },
  "language_info": {
   "codemirror_mode": {
    "name": "ipython",
    "version": 3
   },
   "file_extension": ".py",
   "mimetype": "text/x-python",
   "name": "python",
   "nbconvert_exporter": "python",
   "pygments_lexer": "ipython3",
   "version": "3.11.3"
  }
 },
 "nbformat": 4,
 "nbformat_minor": 2
}
