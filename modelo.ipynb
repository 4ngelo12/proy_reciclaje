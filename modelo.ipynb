{
 "cells": [
  {
   "cell_type": "code",
   "execution_count": 1,
   "metadata": {},
   "outputs": [
    {
     "name": "stderr",
     "output_type": "stream",
     "text": [
      "c:\\Users\\juan1\\AppData\\Local\\Programs\\Python\\Python311\\Lib\\site-packages\\tqdm\\auto.py:21: TqdmWarning: IProgress not found. Please update jupyter and ipywidgets. See https://ipywidgets.readthedocs.io/en/stable/user_install.html\n",
      "  from .autonotebook import tqdm as notebook_tqdm\n"
     ]
    }
   ],
   "source": [
    "import os\n",
    "from datasets import load_dataset"
   ]
  },
  {
   "cell_type": "code",
   "execution_count": 13,
   "metadata": {},
   "outputs": [],
   "source": [
    "def coco_to_yolo(x, y, w, h, width, heigth):\n",
    "    return [((2 * x + w) / (2 * width)), ((2 * y + h) / (2 * heigth)), w / width, h / heigth]"
   ]
  },
  {
   "cell_type": "code",
   "execution_count": 14,
   "metadata": {},
   "outputs": [],
   "source": [
    "def preprocessing(partition: str, data :object):\n",
    "    os.makedirs(f\"datasets/images/{partition}\", exist_ok=True)\n",
    "    os.makedirs(f\"datasets/labels/{partition}\", exist_ok=True)\n",
    "\n",
    "    # data[\"train\"][0] \n",
    "    for i, sample in enumerate(data[partition]):\n",
    "        image = sample['image']\n",
    "        label = sample[\"objects\"]['category']\n",
    "        bboxes = sample[\"objects\"]['bbox']\n",
    "        width = sample['width']\n",
    "        height = sample['height']\n",
    "\n",
    "        # processing bboxes\n",
    "        items = []\n",
    "        for label, bbox in zip(label, bboxes):\n",
    "            xc, yc, w, h = coco_to_yolo(bbox[0], bbox[1], bbox[2], bbox[1], width, height)\n",
    "            items.append(f\"{label} {xc} {yc} {w} {h}\")\n",
    "        \n",
    "        with open(f\"datasets/labels/{partition}/{i}.txt\", \"w\") as f:\n",
    "            for item in items:\n",
    "                f.write(f\"{item}\\n\")\n",
    "\n",
    "        image.save(f\"datasets/images/{partition}/{i}.jpg\")"
   ]
  },
  {
   "cell_type": "code",
   "execution_count": 15,
   "metadata": {},
   "outputs": [],
   "source": [
    "if (__name__ == \"__main__\"):\n",
    "    data = load_dataset(\"https://universe.roboflow.com/ds/OpmEyv9HEN?key=aT00D1ddg4\", \"full\")\n",
    "\n",
    "    preprocessing(\"train\", data)\n",
    "    preprocessing(\"test\", data)\n",
    "    preprocessing(\"validation\", data)"
   ]
  }
 ],
 "metadata": {
  "kernelspec": {
   "display_name": "Python 3",
   "language": "python",
   "name": "python3"
  },
  "language_info": {
   "codemirror_mode": {
    "name": "ipython",
    "version": 3
   },
   "file_extension": ".py",
   "mimetype": "text/x-python",
   "name": "python",
   "nbconvert_exporter": "python",
   "pygments_lexer": "ipython3",
   "version": "3.11.3"
  }
 },
 "nbformat": 4,
 "nbformat_minor": 2
}
